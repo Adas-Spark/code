{
 "cells": [
  {
   "cell_type": "code",
   "execution_count": 2,
   "id": "b8729d3b-116e-430e-9ebd-80d1b5c38a67",
   "metadata": {},
   "outputs": [],
   "source": [
    "## I don't think that I use all of these libraries anymore\n",
    "import requests\n",
    "from bs4 import BeautifulSoup\n",
    "import pandas as pd\n",
    "from selenium import webdriver\n",
    "from selenium.webdriver.common.by import By\n",
    "from selenium.webdriver.support.ui import WebDriverWait\n",
    "from selenium.webdriver.support import expected_conditions as EC\n",
    "from selenium.webdriver.chrome.service import Service\n",
    "from selenium.webdriver.chrome.options import Options\n",
    "from webdriver_manager.chrome import ChromeDriverManager\n",
    "import time\n",
    "from bs4 import BeautifulSoup\n"
   ]
  },
  {
   "cell_type": "code",
   "execution_count": 13,
   "id": "a73e4c80-9289-4da4-a08a-af8b08cabe0b",
   "metadata": {
    "tags": []
   },
   "outputs": [],
   "source": [
    "# URL to scrape\n",
    "url = \"https://www.caringbridge.org/site/6f33ada9-525c-3ce3-be6f-34b647b78d2d\" # the whole directory. Note that this view only exists\n",
    "# because I \"memorialized\" the website\n",
    "#url = \"https://www.caringbridge.org/site/6f33ada9-525c-3ce3-be6f-34b647b78d2d/post/953dde50-3c45-35f3-9f19-20e51d9961a7\" # One subpage"
   ]
  },
  {
   "cell_type": "code",
   "execution_count": null,
   "id": "ec9b64f6-d268-4430-849d-51715193ba9e",
   "metadata": {},
   "outputs": [],
   "source": []
  },
  {
   "cell_type": "code",
   "execution_count": 30,
   "id": "02f38d2b-0906-4ffd-9a57-9960b45255e0",
   "metadata": {},
   "outputs": [
    {
     "data": {
      "text/plain": [
       "'https://www.caringbridge.org/site/6f33ada9-525c-3ce3-be6f-34b647b78d2d'"
      ]
     },
     "execution_count": 30,
     "metadata": {},
     "output_type": "execute_result"
    }
   ],
   "source": [
    "url"
   ]
  },
  {
   "cell_type": "code",
   "execution_count": null,
   "id": "4dde446e-f3d1-4cb6-8a6c-ddfe652c0e1f",
   "metadata": {},
   "outputs": [],
   "source": [
    "\n",
    "# Set up Chrome options to use your profile\n",
    "chrome_options = Options()\n",
    "chrome_options.binary_location = \"/Applications/Google Chrome.app/Contents/MacOS/Google Chrome\"  # Correct path\n",
    "chrome_options.add_argument(\"/Users/joelswenson/Library/Application Support/Google/Chrome\")  # Update this path\n",
    "chrome_options.add_argument(\"profile-directory=Default\")  # Replace 'Default' with the correct profile\n",
    "\n",
    "# Set up the ChromeDriver using webdriver_manager\n",
    "driver = webdriver.Chrome(service=Service(ChromeDriverManager().install()), options=chrome_options)\n",
    "\n",
    "# Open the URL in a browser window\n",
    "driver.get(url)\n",
    "\n",
    "# Wait for the page to load completely\n",
    "time.sleep(23)  # Adjust this delay if needed\n",
    "WebDriverWait(driver, 20).until(EC.presence_of_element_located((By.TAG_NAME, \"body\")))\n",
    "\n",
    "# Click \"View More\" buttons to load all content\n",
    "try:\n",
    "    while True:\n",
    "        # Find the \"View More\" button\n",
    "        view_more_buttons = driver.find_elements(By.XPATH, \"//span[contains(@class, 'underline') and contains(text(), 'View More')]\")\n",
    "\n",
    "        if not view_more_buttons:\n",
    "            break  # No more \"View More\" buttons are available, break the loop\n",
    "\n",
    "        # Loop through the buttons to click and load more content\n",
    "        for button in view_more_buttons:\n",
    "            try:\n",
    "                # Scroll to the button to ensure it's in view\n",
    "                driver.execute_script(\"arguments[0].scrollIntoView(true);\", button)\n",
    "\n",
    "                # Use JavaScript to click the button to avoid click issues\n",
    "                driver.execute_script(\"arguments[0].click();\", button)\n",
    "\n",
    "                # Add a delay to allow new content to load\n",
    "                time.sleep(4)\n",
    "            except Exception as inner_e:\n",
    "                print(f\"Error occurred while clicking a specific 'View More' button: {inner_e}\")\n",
    "\n",
    "except Exception as e:\n",
    "    print(\"Error occurred while clicking 'View More' buttons: \", e)\n",
    "\n",
    "# Click \"View Comments\" buttons to expand comments\n",
    "try:\n",
    "    previous_comment_count = 0\n",
    "\n",
    "    while True:  # Keep clicking until no more buttons are found\n",
    "        # Find all buttons with the chevron down icon for expanding comments\n",
    "        show_comments_buttons = driver.find_elements(By.XPATH, \"//i[contains(@class, 'fa-chevron-down')]\")\n",
    "        print(f\"Number of pushable buttons {len(show_comments_buttons)}\")\n",
    "\n",
    "        # Skip the first 4 instances since they aren't comments\n",
    "        if len(show_comments_buttons) <= 4:\n",
    "            break  # If there aren't more than 4 buttons, exit the loop\n",
    "        show_comments_buttons = show_comments_buttons[4:]\n",
    "\n",
    "        ## Skip the 100 instances to see if I can get the rest of the file\n",
    "        #if len(show_comments_buttons) <= 170:\n",
    "        #    break  # If there aren't more than 130 buttons, exit the loop\n",
    "        #show_comments_buttons = show_comments_buttons[170:]\n",
    "\n",
    "        \n",
    "        # List to store the last 500 characters of the page source before clicking a button\n",
    "        click_contexts = []\n",
    "        \n",
    "        # Click on each button found, starting from the fifth button\n",
    "        for index, button in enumerate(show_comments_buttons):\n",
    "            try:\n",
    "                # Scroll to the button to ensure it's in view\n",
    "                driver.execute_script(\"arguments[0].scrollIntoView(true);\", button)\n",
    "\n",
    "                # Capture the button HTML and its context before clicking\n",
    "                button_html = button.get_attribute('outerHTML')\n",
    "                current_page_source = driver.page_source\n",
    "                context_snippet = current_page_source[-500:]\n",
    "                click_contexts.append({\n",
    "                    \"button_index\": index,\n",
    "                    \"button_html\": button_html,\n",
    "                    \"context_snippet\": context_snippet,\n",
    "                })\n",
    "\n",
    "                # Log information for debugging\n",
    "                print(f\"\\nAttempting to click button #{index + 1} with HTML:\\n{button_html}\\n\")\n",
    "\n",
    "                # Use JavaScript to click the button to avoid click issues\n",
    "                driver.execute_script(\"arguments[0].click();\", button)\n",
    "\n",
    "                # Wait for new comments to load by checking for any new 'viewComment' class elements\n",
    "                WebDriverWait(driver, 10).until(\n",
    "                    EC.presence_of_element_located((By.CLASS_NAME, \"viewComment\"))\n",
    "                )\n",
    "\n",
    "                # Add a delay to allow comments to fully load\n",
    "                time.sleep(2)\n",
    "\n",
    "            except Exception as inner_e:\n",
    "                print(f\"Error occurred while clicking a specific comment button #{index + 1}: {inner_e}\")\n",
    "\n",
    "        # Debugging information: Print the last context snippet\n",
    "        if click_contexts:\n",
    "            print(\"\\nThe last context before a button click was:\")\n",
    "            print(f\"Button Index: {click_contexts[-1]['button_index']}\")\n",
    "            print(f\"Button HTML: {click_contexts[-1]['button_html']}\")\n",
    "            print(f\"Context Snippet: {click_contexts[-1]['context_snippet']}\")\n",
    "        else:\n",
    "            print(\"\\nNo buttons were successfully clicked.\")\n",
    "\n",
    "        # Extract the page source after clicking to see if the number of comments has increased\n",
    "        page_source = driver.page_source\n",
    "        soup = BeautifulSoup(page_source, 'html.parser')\n",
    "        comments = soup.find_all('div', class_='viewComment')\n",
    "\n",
    "        # Break the loop if no new comments were found\n",
    "        if len(comments) == previous_comment_count:\n",
    "            break\n",
    "        previous_comment_count = len(comments)\n",
    "\n",
    "except Exception as e:\n",
    "    print(\"Error occurred while expanding comments: \", e)\n",
    "\n",
    "# Extract the page source and parse it with BeautifulSoup\n",
    "page_source = driver.page_source\n",
    "soup = BeautifulSoup(page_source, 'html.parser')\n",
    "\n",
    "# Close the browser window\n",
    "driver.quit()\n",
    "\n",
    "\n"
   ]
  },
  {
   "cell_type": "code",
   "execution_count": 80,
   "id": "bceb9001-1d6c-4352-affa-9bf2ff12cce0",
   "metadata": {},
   "outputs": [],
   "source": [
    "# Save the page source to a file\n",
    "with open(\"page_source.html\", \"w\", encoding=\"utf-8\") as file:\n",
    "    file.write(page_source)\n",
    "\n"
   ]
  },
  {
   "cell_type": "code",
   "execution_count": null,
   "id": "8bac26c2-7d90-4e82-9c88-9e6be6266a57",
   "metadata": {},
   "outputs": [],
   "source": [
    "# Later, to reload the page source and parse it:\n",
    "with open(\"page_source.html\", \"r\", encoding=\"utf-8\") as file:\n",
    "    saved_page_source = file.read()\n",
    "    soup = BeautifulSoup(saved_page_source, 'html.parser')\n",
    "\n",
    "# Now, `soup` is ready for parsing.\n"
   ]
  },
  {
   "cell_type": "code",
   "execution_count": null,
   "id": "1fde0a20-bb4b-4305-9e78-6ee9386c5767",
   "metadata": {},
   "outputs": [],
   "source": []
  },
  {
   "cell_type": "code",
   "execution_count": null,
   "id": "b1a72740-472d-479b-9b98-8e2f250d7bc0",
   "metadata": {},
   "outputs": [],
   "source": []
  },
  {
   "cell_type": "code",
   "execution_count": null,
   "id": "cb1839c6-e00e-48bb-85ad-332412255e29",
   "metadata": {},
   "outputs": [],
   "source": []
  },
  {
   "cell_type": "markdown",
   "id": "48207dd0-f397-4eaa-843b-b77aa5e18b7c",
   "metadata": {},
   "source": [
    "BELOW is not in use, see caringbridge_parser.ipynb next"
   ]
  },
  {
   "cell_type": "code",
   "execution_count": null,
   "id": "07bdf2bc-db0b-4f2f-9ecf-cddc9b6558f4",
   "metadata": {},
   "outputs": [],
   "source": []
  },
  {
   "cell_type": "code",
   "execution_count": null,
   "id": "822e15c3-90ab-4ef0-ada7-736479a6f9a8",
   "metadata": {},
   "outputs": [],
   "source": []
  },
  {
   "cell_type": "code",
   "execution_count": null,
   "id": "47dfccb8-d929-4b3c-b923-80ce546ea0b2",
   "metadata": {},
   "outputs": [],
   "source": []
  },
  {
   "cell_type": "markdown",
   "id": "ece93f2a-eefb-4546-9715-8a3d65f4d362",
   "metadata": {},
   "source": [
    "# Extract comments using BeautifulSoup\n",
    "comments = soup.find_all('div', class_='viewComment')\n",
    "if comments:\n",
    "    for index, comment in enumerate(comments, start=1):\n",
    "        # Extract commenter's name\n",
    "        commenter_tag = comment.find('span', class_='commentHeader')\n",
    "        if commenter_tag:\n",
    "            commenter_name = commenter_tag.find('strong').get_text(strip=True)\n",
    "            print(f\"Comment {index} by {commenter_name}:\")\n",
    "        \n",
    "        # Extract comment content\n",
    "        comment_body_tag = comment.find('div', class_='commentBody')\n",
    "        if comment_body_tag:\n",
    "            comment_content = comment_body_tag.get_text(strip=True)\n",
    "            print(f\"Content: {comment_content}\")\n",
    "        \n",
    "        print(\"=\" * 50)\n",
    "\n",
    "    print(f\"Total comments extracted: {len(comments)}\")\n",
    "else:\n",
    "    print(\"No comments found.\")"
   ]
  },
  {
   "cell_type": "code",
   "execution_count": 92,
   "id": "62bb4975-f304-480e-aa90-ce6b1156d1b3",
   "metadata": {
    "tags": []
   },
   "outputs": [
    {
     "name": "stdout",
     "output_type": "stream",
     "text": [
      "}</style><style type=\"text/css\" data-styled-jsx=\"\"\n",
      "<p>Thank you all for your continued support. Lets \n",
      "</div></div><span class=\"chakra-link readMoreToggl\n",
      "<p>When Ada was alive we had a dinner time traditi\n",
      "<p>Love Tami and Joel</p></div><span class=\"chakra\n",
      "<p>As always, thanks for your continued support.</\n",
      "<p>We couldn't focus on her and our other kids as \n",
      "<p>-Joel</p></div><span class=\"chakra-link readMor\n",
      "<p>If you read this whole post you really need to \n",
      "<p>Oliver, Ellie and Joel headed back to WI after \n",
      "<p>We keep meaning to write a long and heartfelt p\n",
      "<p>We also want to post about the blood and bone m\n",
      "<p>- Joel</p></div><span class=\"chakra-link readMo\n",
      "<p>Other fun things happening soon: Ada's wish thr\n",
      "</div></div><span class=\"chakra-link readMoreToggl\n",
      "<p>Everyone's love and support means the world to \n",
      "<p>-Holly Ertmer (Tami's sister)</p></div><span cl\n",
      "<p>I love Ada so much and am so thankful that she \n",
      "<p>Memphish, TN 38105</p></div><span class=\"chakra\n",
      "<p>-Tami</p></div><span class=\"chakra-link readMor\n",
      "<p>~Tami (I accidentally used Joel's account)</p><\n",
      "<p>Tami is driving down with her dad tomorrow! I'm\n",
      "<div style=\"color:#ffffff;font-size:12.8px\">Attn: \n",
      "<p>Ultimately all we can do is keep trying to live\n",
      "<p>We have some difficult decisions ahead of us fo\n",
      "<p>&nbsp;</p></div><span class=\"chakra-link readMo\n",
      "<p>We remain grateful for everyone's support and w\n",
      "<p>Finally, in case you didn't see it, I designed \n",
      "<p>Ada has a bone marrow biopsy tomorrow just to c\n",
      "<p>I will of course continue to provide updates as\n",
      "<p>Over the next few days she won't always be able\n",
      "<p>As for Oliver, he said he \"finally feels like h\n",
      "<p>He is very proud of his sister and that he is a\n",
      "<p>It will be a long month or so, but we are takin\n",
      "<p>In other news, Ada had her bone marrow biopsy l\n",
      "<p>Thanks again for everyone's continued support!<\n",
      "<p>We continue to be amazed and grateful for all t\n",
      "<p>But in the meantime, Ada is having a blast at h\n",
      "<div>As always, thank you everyone SO much for you\n",
      "<p>&nbsp;</p></div><span class=\"chakra-link readMo\n",
      "<p>Tomorrow is Ada's birthday! She will be turning\n",
      "<p>While I am at it, I also want to mention how im\n",
      "<p>Funny story about Oliver: last week I took him \n",
      "<p>You may notice in some of the pictures that she\n",
      "<p>It's going to be a long journey and we don't kn\n"
     ]
    }
   ],
   "source": [
    "for line in page_source.splitlines():\n",
    "    if '<div class=\"jsx-90dd3d5d3d6464a0 quadLayout\">' in line:\n",
    "        print(line[:50])"
   ]
  },
  {
   "cell_type": "code",
   "execution_count": null,
   "id": "b1af27ca-56d9-45b0-b5d3-300f1de9393a",
   "metadata": {},
   "outputs": [],
   "source": []
  },
  {
   "cell_type": "code",
   "execution_count": null,
   "id": "ff7f13df-4f83-4b75-a4aa-0fbb487d63d3",
   "metadata": {},
   "outputs": [],
   "source": []
  },
  {
   "cell_type": "code",
   "execution_count": null,
   "id": "988f5790-b9c7-425d-be25-02bb4fa462e4",
   "metadata": {},
   "outputs": [],
   "source": []
  },
  {
   "cell_type": "code",
   "execution_count": null,
   "id": "007a995b-8000-4b53-b51f-b557d4e407d9",
   "metadata": {},
   "outputs": [],
   "source": []
  },
  {
   "cell_type": "code",
   "execution_count": null,
   "id": "284c4143-dac1-441c-b6e4-b2cdcdd61ff5",
   "metadata": {},
   "outputs": [],
   "source": []
  },
  {
   "cell_type": "code",
   "execution_count": null,
   "id": "6b1276e3-1f8c-4e24-a3a2-270ee5e83aa0",
   "metadata": {},
   "outputs": [],
   "source": []
  },
  {
   "cell_type": "code",
   "execution_count": null,
   "id": "f77cba61-7e44-4762-9244-2f4bdf22bf95",
   "metadata": {},
   "outputs": [],
   "source": []
  },
  {
   "cell_type": "code",
   "execution_count": null,
   "id": "c7c7299e-7473-4071-84cd-e4f913c89b6f",
   "metadata": {},
   "outputs": [],
   "source": []
  },
  {
   "cell_type": "markdown",
   "id": "da058858-45c5-42af-a250-1a23e2296a44",
   "metadata": {},
   "source": [
    "from bs4 import BeautifulSoup\n",
    "\n",
    "# Load the saved HTML file into BeautifulSoup\n",
    "with open(file_path, 'r', encoding='utf-8') as file:\n",
    "    page_content = file.read()\n",
    "\n",
    "soup = BeautifulSoup(page_content, 'html.parser')\n",
    "\n",
    "# Find all comment elements based on the relevant class\n",
    "comments = soup.find_all('div', class_='viewComment')\n",
    "\n",
    "# Extract metadata from each comment\n",
    "for comment in comments:\n",
    "    # Extract commenter name and date\n",
    "    commenter_tag = comment.find('span', class_='commentHeader')\n",
    "    if commenter_tag:\n",
    "        # Extract the commenter's name\n",
    "        commenter_name_tag = commenter_tag.find('strong')\n",
    "        commenter_name = commenter_name_tag.get_text(strip=True) if commenter_name_tag else \"Unknown\"\n",
    "\n",
    "        # Extract the date by splitting the remaining text\n",
    "        comment_date_text = commenter_tag.get_text(strip=True)\n",
    "        comment_date = comment_date_text.split('—')[-1].strip() if '—' in comment_date_text else \"Unknown\"\n",
    "    else:\n",
    "        commenter_name = \"Unknown\"\n",
    "        comment_date = \"Unknown\"\n",
    "    \n",
    "    # Extract comment content\n",
    "    comment_body_tag = comment.find('div', class_='commentBody')\n",
    "    comment_content = comment_body_tag.get_text(strip=True) if comment_body_tag else \"No content\"\n",
    "\n",
    "    # Print the extracted comment information\n",
    "    print(f\"Commenter: {commenter_name}\")\n",
    "    print(f\"Date: {comment_date}\")\n",
    "    print(f\"Comment: {comment_content}\")\n",
    "    print(\"=\" * 50)\n"
   ]
  },
  {
   "cell_type": "code",
   "execution_count": null,
   "id": "3a56b8e5-9f5a-4d6b-808e-761e4d4b28df",
   "metadata": {},
   "outputs": [],
   "source": []
  },
  {
   "cell_type": "code",
   "execution_count": null,
   "id": "c66a78cb-b125-44ab-a6f9-40e593b79d2a",
   "metadata": {},
   "outputs": [],
   "source": []
  },
  {
   "cell_type": "code",
   "execution_count": null,
   "id": "2a5bbf7b-4a56-4551-b7a6-4737fddaf7b2",
   "metadata": {},
   "outputs": [],
   "source": []
  },
  {
   "cell_type": "markdown",
   "id": "931ad8e6-26fc-4365-93d4-60b7ff814d7d",
   "metadata": {
    "tags": []
   },
   "source": [
    "## Extract Reactions"
   ]
  },
  {
   "cell_type": "markdown",
   "id": "1a4445c9-dacc-42db-9b20-6d0dd0fbe0e5",
   "metadata": {},
   "source": [
    "From the below need to extract \"Praying\", \"Hearts\", \"41\" ....I could try to extract names of who did each eventually\n",
    "Can also extract number of comments from the below line = \"12\""
   ]
  },
  {
   "cell_type": "markdown",
   "id": "4038ff30-7ba3-422e-ab55-88fbf1ac87c4",
   "metadata": {},
   "source": [
    "<div data-qa=\"commentCountButtons\" class=\"jsx-3352288381 countButtons\"><button data-qa=\"reactionCounter-d3aa63a0-b7c6-3049-8d14-f9915ceaa339\" class=\"jsx-1378e3855087140a reactionCounter button--isClear\"><div data-qa=\"rc-icon-Heart\" class=\"jsx-1378e3855087140a reactionCounter__emoji\"><img src=\"/img/emojis/emoji-heart.svg\" alt=\"Heart icon\" class=\"jsx-1378e3855087140a\"></div><div data-qa=\"rc-icon-Prayer\" class=\"jsx-1378e3855087140a reactionCounter__emoji\"><img src=\"/img/emojis/emoji-pray.svg\" alt=\"Folded hands icon\" class=\"jsx-1378e3855087140a\"></div><span data-qa=\"rc-count\" class=\"jsx-1378e3855087140a reactionCounter__count\"><span class=\"jsx-1378e3855087140a sr-only\">Reactions count: </span>41</span></button><button class=\"tertiaryButton button--isClear hideOutlineForMouse noPrint jsx-1878294938 commentCounter withoutIcon\" tabindex=\"0\" data-qa=\"toggleComments-d3aa63a0-b7c6-3049-8d14-f9915ceaa339\" type=\"button\"><span class=\"jsx-1878294938 flexOrder\"><span class=\"jsx-1878294938 underline\"><span class=\"jsx-ea16c7692e41b271 \">12 comments</span> <i class=\"fa-chevron-down fa-light\" aria-hidden=\"true\"></i></span>&nbsp;&nbsp;</span></button></div>"
   ]
  },
  {
   "cell_type": "markdown",
   "id": "a19f645b-9ad8-42f7-9e34-5a3650c14e71",
   "metadata": {},
   "source": [
    "Another example below should yield \"Hearts\", \"46\"\n",
    "Number of comments = \"15\""
   ]
  },
  {
   "cell_type": "markdown",
   "id": "bad09689-2e52-472f-90ce-b627dadd267d",
   "metadata": {},
   "source": [
    "<div data-qa=\"commentCountButtons\" class=\"jsx-3352288381 countButtons\"><button data-qa=\"reactionCounter-2d7616a6-772f-3407-8104-b1cd98b9018f\" class=\"jsx-1378e3855087140a reactionCounter button--isClear\"><div data-qa=\"rc-icon-Heart\" class=\"jsx-1378e3855087140a reactionCounter__emoji\"><img src=\"/img/emojis/emoji-heart.svg\" alt=\"Heart icon\" class=\"jsx-1378e3855087140a\"></div><span data-qa=\"rc-count\" class=\"jsx-1378e3855087140a reactionCounter__count\"><span class=\"jsx-1378e3855087140a sr-only\">Reactions count: </span>46</span></button><button class=\"tertiaryButton button--isClear hideOutlineForMouse noPrint jsx-1878294938 commentCounter withoutIcon\" tabindex=\"0\" data-qa=\"toggleComments-2d7616a6-772f-3407-8104-b1cd98b9018f\" type=\"button\"><span class=\"jsx-1878294938 flexOrder\"><span class=\"jsx-1878294938 underline\"><span class=\"jsx-ea16c7692e41b271 \">15 comments</span> <i class=\"fa-chevron-up fa-light\" aria-hidden=\"true\"></i></span>&nbsp;&nbsp;</span></button></div>"
   ]
  },
  {
   "cell_type": "code",
   "execution_count": null,
   "id": "de47d7be-e0e6-4200-a052-26e28ec639d6",
   "metadata": {},
   "outputs": [],
   "source": []
  },
  {
   "cell_type": "code",
   "execution_count": null,
   "id": "72c86cf6-7f96-4476-b3f9-962cd5989b88",
   "metadata": {},
   "outputs": [],
   "source": []
  }
 ],
 "metadata": {
  "kernelspec": {
   "display_name": "Python 3 (ipykernel)",
   "language": "python",
   "name": "python3"
  },
  "language_info": {
   "codemirror_mode": {
    "name": "ipython",
    "version": 3
   },
   "file_extension": ".py",
   "mimetype": "text/x-python",
   "name": "python",
   "nbconvert_exporter": "python",
   "pygments_lexer": "ipython3",
   "version": "3.13.0"
  }
 },
 "nbformat": 4,
 "nbformat_minor": 5
}
