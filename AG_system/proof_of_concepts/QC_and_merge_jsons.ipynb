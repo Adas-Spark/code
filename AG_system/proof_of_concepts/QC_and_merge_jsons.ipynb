{
 "cells": [
  {
   "cell_type": "markdown",
   "id": "18d63872-a396-46b0-ac56-9248761dd06d",
   "metadata": {},
   "source": [
    "Useful conversation: https://claude.ai/chat/f757fbe0-99f4-4386-9601-de508a4ad71d"
   ]
  },
  {
   "cell_type": "code",
   "execution_count": 1,
   "id": "da265c00-4d83-4d20-8342-6478f34b9b2e",
   "metadata": {},
   "outputs": [],
   "source": [
    "import json\n",
    "from collections import Counter\n",
    "import difflib\n",
    "import glob\n",
    "import os\n",
    "import matplotlib.pyplot as plt\n",
    "from datetime import datetime"
   ]
  },
  {
   "cell_type": "code",
   "execution_count": 2,
   "id": "d5526c7c-244d-4177-883b-8eb8c4592328",
   "metadata": {},
   "outputs": [
    {
     "name": "stdout",
     "output_type": "stream",
     "text": [
      "Found 3 JSON files: ['generated_qa_pairs_part1.json', 'generated_qa_pairs_part2.json', 'generated_qa_pairs_part3.json']\n"
     ]
    }
   ],
   "source": [
    "# Initialize an empty list to hold all question-answer pairs\n",
    "combined_data = []\n",
    "\n",
    "# For each JSON file output from Gemini - automatically find all parts\n",
    "json_files = glob.glob(\"generated_qa_pairs_part*.json\")\n",
    "json_files.sort()  # Ensure consistent ordering (part1, part2, etc.)\n",
    "\n",
    "print(f\"Found {len(json_files)} JSON files: {json_files}\")"
   ]
  },
  {
   "cell_type": "code",
   "execution_count": 3,
   "id": "0d90d6d4-8d5b-434c-8af7-44a52c3f8c57",
   "metadata": {},
   "outputs": [],
   "source": [
    "def fix_json_file(file_path):\n",
    "    \"\"\"Robust JSON fixing for common Gemini output issues\"\"\"\n",
    "    import re\n",
    "    \n",
    "    with open(file_path, 'r', encoding='utf-8') as file:\n",
    "        content = file.read()\n",
    "    \n",
    "    # Fix 1: Escape unescaped quotes in answer_text fields\n",
    "    def fix_answer_text(match):\n",
    "        full_match = match.group(0)\n",
    "        text_content = match.group(1)\n",
    "        \n",
    "        # Temporarily replace already escaped quotes\n",
    "        text_content = text_content.replace('\\\\\"', '___ESCAPED_QUOTE___')\n",
    "        # Escape remaining quotes\n",
    "        text_content = text_content.replace('\"', '\\\\\"')\n",
    "        # Restore the escaped quotes\n",
    "        text_content = text_content.replace('___ESCAPED_QUOTE___', '\\\\\"')\n",
    "        \n",
    "        return f'\"answer_text\": \"{text_content}\"'\n",
    "    \n",
    "    # Apply the fix to answer_text fields\n",
    "    content = re.sub(r'\"answer_text\":\\s*\"(.*?)\"(?=\\s*,\\s*\"source_post_id\")', \n",
    "                     fix_answer_text, content, flags=re.DOTALL)\n",
    "    \n",
    "    # Fix 2: Remove any trailing commas before closing brackets\n",
    "    content = re.sub(r',\\s*}', '}', content)\n",
    "    content = re.sub(r',\\s*]', ']', content)\n",
    "    \n",
    "    # Fix 3: Ensure proper JSON array structure\n",
    "    if not content.strip().startswith('['):\n",
    "        content = '[' + content\n",
    "    if not content.strip().endswith(']'):\n",
    "        content = content + ']'\n",
    "    \n",
    "    # Write fixed content\n",
    "    fixed_path = file_path + '.fixed'\n",
    "    with open(fixed_path, 'w', encoding='utf-8') as file:\n",
    "        file.write(content)\n",
    "    \n",
    "    return fixed_path"
   ]
  },
  {
   "cell_type": "code",
   "execution_count": 4,
   "id": "6d9b5e55-0135-42eb-98dd-032afa06dc6d",
   "metadata": {},
   "outputs": [
    {
     "name": "stdout",
     "output_type": "stream",
     "text": [
      "Processing generated_qa_pairs_part1.json...\n",
      "  ✗ JSON Error in generated_qa_pairs_part1.json - attempting to fix...\n",
      "  ✓ Fixed and loaded 40 Q&A pairs\n",
      "Processing generated_qa_pairs_part2.json...\n",
      "  ✓ Successfully loaded 20 Q&A pairs\n",
      "Processing generated_qa_pairs_part3.json...\n",
      "  ✓ Successfully loaded 28 Q&A pairs\n"
     ]
    }
   ],
   "source": [
    "# Combine all the relevant jsons into a single data structure\n",
    "for file_path in json_files:\n",
    "    try:\n",
    "        print(f\"Processing {file_path}...\")\n",
    "        with open(file_path, 'r') as file:\n",
    "            batch_data = json.load(file)\n",
    "            print(f\"  ✓ Successfully loaded {len(batch_data)} Q&A pairs\")\n",
    "            # Append this batch's data to our combined list\n",
    "            combined_data.extend(batch_data)\n",
    "    except json.JSONDecodeError as e:\n",
    "        print(f\"  ✗ JSON Error in {file_path} - attempting to fix...\")\n",
    "        \n",
    "        # Try to fix the JSON formatting issues\n",
    "        try:\n",
    "            fixed_file_path = fix_json_file(file_path)\n",
    "            with open(fixed_file_path, 'r') as file:\n",
    "                batch_data = json.load(file)\n",
    "                print(f\"  ✓ Fixed and loaded {len(batch_data)} Q&A pairs\")\n",
    "                combined_data.extend(batch_data)\n",
    "                \n",
    "            # Remove the temporary fixed file\n",
    "            os.remove(fixed_file_path)\n",
    "            \n",
    "        except Exception as fix_error:\n",
    "            print(f\"  ✗ Could not fix {file_path}: {fix_error}\")\n",
    "            print(f\"    Original error - Line {e.lineno}, Column {e.colno}: {e.msg}\")\n",
    "            continue"
   ]
  },
  {
   "cell_type": "code",
   "execution_count": 5,
   "id": "7c1b6c4a-e734-4b64-8803-8d190edd8e3a",
   "metadata": {},
   "outputs": [],
   "source": [
    "# Reassign question_ids to ensure that they are unique across batches\n",
    "for i, qa_pair in enumerate(combined_data):\n",
    "    qa_pair[\"question_id\"] = f\"Q{i+1}\"\n",
    "    # Also update answer_ids if needed\n",
    "    for j, answer in enumerate(qa_pair[\"answers\"]):\n",
    "        answer[\"answer_id\"] = f\"Q{i+1}A{j+1}\""
   ]
  },
  {
   "cell_type": "code",
   "execution_count": 6,
   "id": "b7d6516d-bfb3-4ab3-a458-abf0e0ea3c97",
   "metadata": {},
   "outputs": [],
   "source": [
    "# Write the combined data to a new JSON file\n",
    "with open(\"generated_qa_pairs_combined.json\", 'w') as outfile:\n",
    "    json.dump(combined_data, outfile, indent=2)"
   ]
  },
  {
   "cell_type": "code",
   "execution_count": null,
   "id": "68a88938-e82c-4bd5-91fd-2afbd3d6ef30",
   "metadata": {},
   "outputs": [],
   "source": []
  },
  {
   "cell_type": "code",
   "execution_count": null,
   "id": "056ca2e8-b34c-42f5-a047-b75ab2c02afd",
   "metadata": {},
   "outputs": [],
   "source": []
  },
  {
   "cell_type": "code",
   "execution_count": null,
   "id": "56b04ac9-f344-40be-befc-b52486bd9e13",
   "metadata": {},
   "outputs": [],
   "source": []
  },
  {
   "cell_type": "code",
   "execution_count": 7,
   "id": "5bd241ad-0867-4c11-bc4f-593424a510d5",
   "metadata": {},
   "outputs": [],
   "source": [
    "def check_questions_coverage(combined_data, questions_file_path=\"questions_to_answer.txt\"):\n",
    "    \"\"\"\n",
    "    Check which questions from the original list were actually answered.\n",
    "    \n",
    "    Returns:\n",
    "        dict: Coverage analysis results including missing questions and metrics\n",
    "    \"\"\"\n",
    "    # Read the original questions\n",
    "    with open(questions_file_path, 'r', encoding='utf-8') as file:\n",
    "        original_questions = [line.strip() for line in file if line.strip()]\n",
    "    \n",
    "    # Get answered questions from combined data\n",
    "    answered_questions = [qa[\"question_text\"] for qa in combined_data]\n",
    "    \n",
    "    # Find missing questions\n",
    "    missing_questions = []\n",
    "    for orig_q in original_questions:\n",
    "        if orig_q not in answered_questions:\n",
    "            missing_questions.append(orig_q)\n",
    "    \n",
    "    # Calculate metrics\n",
    "    coverage_rate = (len(original_questions) - len(missing_questions)) / len(original_questions)\n",
    "    \n",
    "    results = {\n",
    "        \"original_count\": len(original_questions),\n",
    "        \"answered_count\": len(answered_questions),\n",
    "        \"missing_count\": len(missing_questions),\n",
    "        \"missing_questions\": missing_questions,\n",
    "        \"coverage_rate\": coverage_rate\n",
    "    }\n",
    "    \n",
    "    # Print summary\n",
    "    print(f\"\\nQuestion Coverage Analysis:\")\n",
    "    print(f\"Original questions: {results['original_count']}\")\n",
    "    print(f\"Answered questions: {results['answered_count']}\")\n",
    "    print(f\"Missing questions: {results['missing_count']}\")\n",
    "    print(f\"Coverage rate: {results['coverage_rate']*100:.1f}%\")\n",
    "    \n",
    "    return results"
   ]
  },
  {
   "cell_type": "code",
   "execution_count": 8,
   "id": "b4a0b631-c9f3-4de0-b42e-3e0f086cf28e",
   "metadata": {},
   "outputs": [],
   "source": [
    "def analyze_answer_distribution(combined_data):\n",
    "    \"\"\"\n",
    "    Analyze how many answers each question has and provide distribution statistics.\n",
    "    \n",
    "    Returns:\n",
    "        dict: Distribution analysis including max answers and count frequencies\n",
    "    \"\"\"\n",
    "    # Count answers per question\n",
    "    answers_per_question = [len(qa[\"answers\"]) for qa in combined_data]\n",
    "    \n",
    "    # Find max number of answers\n",
    "    max_answers = max(answers_per_question) if answers_per_question else 0\n",
    "    \n",
    "    # Count frequency of each answer count (0 to max)\n",
    "    answer_distribution = {}\n",
    "    for n in range(0, max_answers + 1):\n",
    "        count = answers_per_question.count(n)\n",
    "        if count > 0:  # Only include counts that actually exist\n",
    "            answer_distribution[n] = count\n",
    "    \n",
    "    # Calculate some summary stats\n",
    "    total_questions = len(combined_data)\n",
    "    avg_answers = sum(answers_per_question) / total_questions if total_questions > 0 else 0\n",
    "    \n",
    "    results = {\n",
    "        \"total_questions\": total_questions,\n",
    "        \"max_answers_per_question\": max_answers,\n",
    "        \"average_answers_per_question\": round(avg_answers, 2),\n",
    "        \"answer_distribution\": answer_distribution\n",
    "    }\n",
    "    \n",
    "    # Print summary\n",
    "    print(f\"\\nAnswer Distribution Analysis:\")\n",
    "    print(f\"Total questions: {total_questions}\")\n",
    "    print(f\"Average answers per question: {avg_answers:.2f}\")\n",
    "    print(f\"Maximum answers for any question: {max_answers}\")\n",
    "    print(f\"\\nDistribution:\")\n",
    "    for n_answers in sorted(answer_distribution.keys()):\n",
    "        count = answer_distribution[n_answers]\n",
    "        percentage = (count / total_questions) * 100\n",
    "        print(f\"  {n_answers} answers: {count} questions ({percentage:.1f}%)\")\n",
    "    \n",
    "    return results"
   ]
  },
  {
   "cell_type": "code",
   "execution_count": 9,
   "id": "d1693676-8af2-48c6-aabe-f5d426e770c1",
   "metadata": {},
   "outputs": [],
   "source": [
    "def analyze_answer_lengths(combined_data, min_word_threshold=20, min_char_threshold=100):\n",
    "    \"\"\"\n",
    "    Analyze the length distribution of all answers and flag short ones.\n",
    "    \n",
    "    Args:\n",
    "        combined_data: The Q&A dataset\n",
    "        min_word_threshold: Minimum words to not be flagged as \"too short\"\n",
    "        min_char_threshold: Minimum characters to not be flagged as \"too short\"\n",
    "    \n",
    "    Returns:\n",
    "        dict: Length analysis including distribution and flagged short answers\n",
    "    \"\"\"\n",
    "    all_answers = []\n",
    "    short_answers = []\n",
    "    \n",
    "    # Extract all answers with metadata\n",
    "    for qa in combined_data:\n",
    "        for answer in qa[\"answers\"]:\n",
    "            answer_text = answer[\"answer_text\"]\n",
    "            word_count = len(answer_text.split())\n",
    "            char_count = len(answer_text)\n",
    "            \n",
    "            answer_info = {\n",
    "                \"question_id\": qa[\"question_id\"],\n",
    "                \"answer_id\": answer[\"answer_id\"],\n",
    "                \"word_count\": word_count,\n",
    "                \"char_count\": char_count,\n",
    "                \"text_preview\": answer_text[:100] + \"...\" if len(answer_text) > 100 else answer_text\n",
    "            }\n",
    "            \n",
    "            all_answers.append(answer_info)\n",
    "            \n",
    "            # Flag if too short\n",
    "            if word_count < min_word_threshold or char_count < min_char_threshold:\n",
    "                short_answers.append(answer_info)\n",
    "    \n",
    "    # Calculate statistics\n",
    "    word_counts = [a[\"word_count\"] for a in all_answers]\n",
    "    char_counts = [a[\"char_count\"] for a in all_answers]\n",
    "    \n",
    "    results = {\n",
    "        \"total_answers\": len(all_answers),\n",
    "        \"short_answers_count\": len(short_answers),\n",
    "        \"short_answers\": short_answers,\n",
    "        \"word_stats\": {\n",
    "            \"average\": round(sum(word_counts) / len(word_counts), 1) if word_counts else 0,\n",
    "            \"min\": min(word_counts) if word_counts else 0,\n",
    "            \"max\": max(word_counts) if word_counts else 0\n",
    "        },\n",
    "        \"char_stats\": {\n",
    "            \"average\": round(sum(char_counts) / len(char_counts), 1) if char_counts else 0,\n",
    "            \"min\": min(char_counts) if char_counts else 0,\n",
    "            \"max\": max(char_counts) if char_counts else 0\n",
    "        },\n",
    "        \"thresholds\": {\n",
    "            \"min_words\": min_word_threshold,\n",
    "            \"min_chars\": min_char_threshold\n",
    "        }\n",
    "    }\n",
    "    \n",
    "    # Print summary\n",
    "    print(f\"\\nAnswer Length Analysis:\")\n",
    "    print(f\"Total answers: {results['total_answers']}\")\n",
    "    print(f\"Average length: {results['word_stats']['average']} words, {results['char_stats']['average']} characters\")\n",
    "    print(f\"Range: {results['word_stats']['min']}-{results['word_stats']['max']} words\")\n",
    "    print(f\"Short answers flagged: {results['short_answers_count']} ({(results['short_answers_count']/results['total_answers']*100):.1f}%)\")\n",
    "    \n",
    "    if short_answers:\n",
    "        print(f\"\\nFirst 5 short answers:\")\n",
    "        for i, answer in enumerate(short_answers[:5]):\n",
    "            print(f\"  {answer['answer_id']}: {answer['word_count']} words - \\\"{answer['text_preview']}\\\"\")\n",
    "    \n",
    "    return results"
   ]
  },
  {
   "cell_type": "code",
   "execution_count": 10,
   "id": "393b2129-e9c5-4218-896a-88bd26946399",
   "metadata": {},
   "outputs": [],
   "source": [
    "def check_duplicate_questions(json_data):\n",
    "    \"\"\"Check for exact duplicate questions\"\"\"\n",
    "    questions = [qa[\"question_text\"] for qa in json_data]\n",
    "    question_counts = Counter(questions)\n",
    "    duplicates = [q for q, count in question_counts.items() if count > 1]\n",
    "    \n",
    "    results = {\n",
    "        \"duplicates_found\": len(duplicates) > 0,\n",
    "        \"duplicate_questions\": duplicates,\n",
    "        \"duplicate_details\": {q: question_counts[q] for q in duplicates}\n",
    "    }\n",
    "    \n",
    "    # Print results\n",
    "    print(f\"\\nDuplicate Questions Check:\")\n",
    "    if results[\"duplicates_found\"]:\n",
    "        print(f\"⚠️  Found {len(duplicates)} duplicate questions\")\n",
    "        for q in duplicates[:3]:  # Show first 3\n",
    "            print(f\"  - '{q}' (appears {question_counts[q]} times)\")\n",
    "        if len(duplicates) > 3:\n",
    "            print(f\"  ... and {len(duplicates) - 3} more\")\n",
    "    else:\n",
    "        print(\"✅ No duplicate questions found\")\n",
    "    \n",
    "    return results"
   ]
  },
  {
   "cell_type": "code",
   "execution_count": 11,
   "id": "e67fb879-7747-4c02-b610-3d483af16f9b",
   "metadata": {},
   "outputs": [],
   "source": [
    "def check_empty_answers(json_data):\n",
    "    \"\"\"Check for questions with no answers or empty answer arrays\"\"\"\n",
    "    empty_answers = []\n",
    "    \n",
    "    for i, qa in enumerate(json_data):\n",
    "        if \"answers\" not in qa or not qa[\"answers\"] or len(qa[\"answers\"]) == 0:\n",
    "            empty_answers.append({\n",
    "                \"index\": i,\n",
    "                \"question_id\": qa.get(\"question_id\", \"MISSING_ID\"),\n",
    "                \"question_text\": qa.get(\"question_text\", \"MISSING_TEXT\")\n",
    "            })\n",
    "    \n",
    "    results = {\n",
    "        \"empty_answers_found\": len(empty_answers) > 0,\n",
    "        \"empty_answers\": empty_answers,\n",
    "        \"count\": len(empty_answers)\n",
    "    }\n",
    "    \n",
    "    # Print results\n",
    "    print(f\"\\nEmpty Answers Check:\")\n",
    "    if results[\"empty_answers_found\"]:\n",
    "        print(f\"⚠️  Found {len(empty_answers)} questions with no answers\")\n",
    "        for qa in empty_answers[:3]:  # Show first 3\n",
    "            print(f\"  - {qa['question_id']}: '{qa['question_text'][:60]}...'\")\n",
    "        if len(empty_answers) > 3:\n",
    "            print(f\"  ... and {len(empty_answers) - 3} more\")\n",
    "    else:\n",
    "        print(\"✅ All questions have answers\")\n",
    "    \n",
    "    return results"
   ]
  },
  {
   "cell_type": "code",
   "execution_count": 12,
   "id": "30afde62-d5f2-4795-876f-6b5d042bc594",
   "metadata": {},
   "outputs": [],
   "source": [
    "def check_json_format(json_data):\n",
    "    \"\"\"Check for JSON format consistency\"\"\"\n",
    "    expected_fields = {\"question_id\", \"question_text\", \"category\", \"answers\"}\n",
    "    expected_answer_fields = {\"answer_id\", \"answer_text\", \"source_post_id\", \"source_date\"}\n",
    "    format_issues = []\n",
    "    \n",
    "    for i, qa in enumerate(json_data):\n",
    "        missing_fields = expected_fields - set(qa.keys())\n",
    "        if missing_fields:\n",
    "            format_issues.append({\n",
    "                \"index\": i,\n",
    "                \"question_id\": qa.get(\"question_id\", \"MISSING_ID\"),\n",
    "                \"issue\": f\"Missing fields: {', '.join(missing_fields)}\"\n",
    "            })\n",
    "        \n",
    "        if \"answers\" in qa and qa[\"answers\"]:\n",
    "            for j, answer in enumerate(qa[\"answers\"]):\n",
    "                missing_answer_fields = expected_answer_fields - set(answer.keys())\n",
    "                if missing_answer_fields:\n",
    "                    format_issues.append({\n",
    "                        \"index\": i,\n",
    "                        \"question_id\": qa.get(\"question_id\", \"MISSING_ID\"),\n",
    "                        \"answer_index\": j,\n",
    "                        \"issue\": f\"Answer missing fields: {', '.join(missing_answer_fields)}\"\n",
    "                    })\n",
    "    \n",
    "    results = {\n",
    "        \"format_issues_found\": len(format_issues) > 0,\n",
    "        \"format_issues\": format_issues,\n",
    "        \"count\": len(format_issues)\n",
    "    }\n",
    "    \n",
    "    # Print results\n",
    "    print(f\"\\nJSON Format Check:\")\n",
    "    if results[\"format_issues_found\"]:\n",
    "        print(f\"⚠️  Found {len(format_issues)} JSON format issues\")\n",
    "        for issue in format_issues[:3]:  # Show first 3\n",
    "            print(f\"  - {issue['question_id']}: {issue['issue']}\")\n",
    "        if len(format_issues) > 3:\n",
    "            print(f\"  ... and {len(format_issues) - 3} more\")\n",
    "    else:\n",
    "        print(\"✅ All JSON formatting is correct\")\n",
    "    \n",
    "    return results"
   ]
  },
  {
   "cell_type": "code",
   "execution_count": 13,
   "id": "377db009-e322-4833-87f3-b1e72e83f593",
   "metadata": {},
   "outputs": [],
   "source": [
    "def visualize_answer_distribution(answer_dist_results):\n",
    "    \"\"\"Create histogram of answers per question\"\"\"\n",
    "    distribution = answer_dist_results[\"answer_distribution\"]\n",
    "    \n",
    "    # Extract data for plotting\n",
    "    answer_counts = list(distribution.keys())\n",
    "    question_counts = list(distribution.values())\n",
    "    \n",
    "    plt.figure(figsize=(8, 6))\n",
    "    plt.bar(answer_counts, question_counts, color='skyblue', edgecolor='navy', alpha=0.7)\n",
    "    plt.xlabel('Number of Answers per Question')\n",
    "    plt.ylabel('Number of Questions')\n",
    "    plt.title('Distribution of Answers per Question')\n",
    "    plt.xticks(answer_counts)  # Show all x-axis values\n",
    "    \n",
    "    # Add value labels on bars\n",
    "    for i, v in enumerate(question_counts):\n",
    "        plt.text(answer_counts[i], v + 0.5, str(v), ha='center', va='bottom')\n",
    "    \n",
    "    plt.tight_layout()\n",
    "    plt.show()"
   ]
  },
  {
   "cell_type": "code",
   "execution_count": 14,
   "id": "2f499043-81dd-4704-b03e-f541e9c98bf2",
   "metadata": {},
   "outputs": [],
   "source": [
    "def visualize_answer_lengths(length_results):\n",
    "    \"\"\"Create histogram of answer word counts\"\"\"\n",
    "    # We need to extract individual word counts from combined_data\n",
    "    # This function will be called right after length analysis\n",
    "    word_counts = []\n",
    "    for qa in combined_data:\n",
    "        for answer in qa[\"answers\"]:\n",
    "            word_count = len(answer[\"answer_text\"].split())\n",
    "            word_counts.append(word_count)\n",
    "    \n",
    "    plt.figure(figsize=(10, 6))\n",
    "    plt.hist(word_counts, bins=20, color='lightcoral', edgecolor='darkred', alpha=0.7)\n",
    "    plt.xlabel('Word Count per Answer')\n",
    "    plt.ylabel('Number of Answers')\n",
    "    plt.title('Distribution of Answer Lengths (Word Count)')\n",
    "    plt.axvline(x=20, color='red', linestyle='--', label='Minimum threshold (20 words)')\n",
    "    plt.axvline(x=length_results[\"word_stats\"][\"average\"], color='green', linestyle='--', \n",
    "                label=f'Average ({length_results[\"word_stats\"][\"average\"]} words)')\n",
    "    plt.legend()\n",
    "    plt.grid(axis='y', alpha=0.3)\n",
    "    plt.tight_layout()\n",
    "    plt.show()"
   ]
  },
  {
   "cell_type": "code",
   "execution_count": 15,
   "id": "9fccff09-288f-4c62-add5-dfcfa1f15717",
   "metadata": {},
   "outputs": [],
   "source": [
    "def save_qc_report(coverage_results, answer_dist_results, length_results, \n",
    "                   duplicate_results, empty_results, format_results, \n",
    "                   filename=None):\n",
    "    \"\"\"Save comprehensive QC report in human-readable format\"\"\"\n",
    "    \n",
    "    if filename is None:\n",
    "        timestamp = datetime.now().strftime(\"%Y%m%d_%H%M%S\")\n",
    "        filename = f\"ada_qa_qc_report_{timestamp}.txt\"\n",
    "    \n",
    "    with open(filename, 'w', encoding='utf-8') as f:\n",
    "        f.write(\"=\" * 60 + \"\\n\")\n",
    "        f.write(\"ADA'S SPARK MEMORY ENGINE - QUALITY CONTROL REPORT\\n\")\n",
    "        f.write(\"=\" * 60 + \"\\n\")\n",
    "        f.write(f\"Generated: {datetime.now().strftime('%Y-%m-%d %H:%M:%S')}\\n\\n\")\n",
    "        \n",
    "        # Coverage Summary\n",
    "        f.write(\"1. QUESTION COVERAGE\\n\")\n",
    "        f.write(\"-\" * 20 + \"\\n\")\n",
    "        f.write(f\"Original questions: {coverage_results['original_count']}\\n\")\n",
    "        f.write(f\"Answered questions: {coverage_results['answered_count']}\\n\")\n",
    "        f.write(f\"Missing questions: {coverage_results['missing_count']}\\n\")\n",
    "        f.write(f\"Coverage rate: {coverage_results['coverage_rate']*100:.1f}%\\n\\n\")\n",
    "        \n",
    "        # Answer Distribution\n",
    "        f.write(\"2. ANSWER DISTRIBUTION\\n\")\n",
    "        f.write(\"-\" * 20 + \"\\n\")\n",
    "        f.write(f\"Total questions: {answer_dist_results['total_questions']}\\n\")\n",
    "        f.write(f\"Average answers per question: {answer_dist_results['average_answers_per_question']}\\n\")\n",
    "        f.write(f\"Max answers per question: {answer_dist_results['max_answers_per_question']}\\n\")\n",
    "        f.write(\"Distribution breakdown:\\n\")\n",
    "        for n_answers in sorted(answer_dist_results['answer_distribution'].keys()):\n",
    "            count = answer_dist_results['answer_distribution'][n_answers]\n",
    "            pct = (count / answer_dist_results['total_questions']) * 100\n",
    "            f.write(f\"  {n_answers} answers: {count} questions ({pct:.1f}%)\\n\")\n",
    "        f.write(\"\\n\")\n",
    "        \n",
    "        # Length Analysis\n",
    "        f.write(\"3. ANSWER LENGTH ANALYSIS\\n\")\n",
    "        f.write(\"-\" * 25 + \"\\n\")\n",
    "        f.write(f\"Total answers: {length_results['total_answers']}\\n\")\n",
    "        f.write(f\"Average length: {length_results['word_stats']['average']} words\\n\")\n",
    "        f.write(f\"Length range: {length_results['word_stats']['min']}-{length_results['word_stats']['max']} words\\n\")\n",
    "        f.write(f\"Short answers flagged: {length_results['short_answers_count']} ({(length_results['short_answers_count']/length_results['total_answers']*100):.1f}%)\\n\")\n",
    "        \n",
    "        if length_results['short_answers']:\n",
    "            f.write(\"\\nShort answers:\\n\")\n",
    "            for answer in length_results['short_answers'][:10]:  # First 10\n",
    "                f.write(f\"  {answer['answer_id']}: {answer['word_count']} words\\n\")\n",
    "        f.write(\"\\n\")\n",
    "        \n",
    "        # Quality Checks\n",
    "        f.write(\"4. QUALITY CHECKS\\n\")\n",
    "        f.write(\"-\" * 15 + \"\\n\")\n",
    "        \n",
    "        # Duplicates\n",
    "        f.write(\"Duplicate Questions: \")\n",
    "        if duplicate_results['duplicates_found']:\n",
    "            f.write(f\"❌ {len(duplicate_results['duplicate_questions'])} found\\n\")\n",
    "            for q in duplicate_results['duplicate_questions'][:5]:\n",
    "                f.write(f\"  - {q}\\n\")\n",
    "        else:\n",
    "            f.write(\"✅ None found\\n\")\n",
    "        \n",
    "        # Empty answers\n",
    "        f.write(\"Empty Answers: \")\n",
    "        if empty_results['empty_answers_found']:\n",
    "            f.write(f\"❌ {empty_results['count']} found\\n\")\n",
    "        else:\n",
    "            f.write(\"✅ None found\\n\")\n",
    "        \n",
    "        # Format issues\n",
    "        f.write(\"Format Issues: \")\n",
    "        if format_results['format_issues_found']:\n",
    "            f.write(f\"❌ {format_results['count']} found\\n\")\n",
    "        else:\n",
    "            f.write(\"✅ None found\\n\")\n",
    "        \n",
    "        f.write(\"\\n\" + \"=\" * 60 + \"\\n\")\n",
    "        f.write(\"END OF REPORT\\n\")\n",
    "        f.write(\"=\" * 60 + \"\\n\")\n",
    "    \n",
    "    print(f\"✅ QC report saved to: {filename}\")\n",
    "    return filename"
   ]
  },
  {
   "cell_type": "code",
   "execution_count": null,
   "id": "80b9e4a2-2fe8-41aa-bd5a-1d8a059560a7",
   "metadata": {},
   "outputs": [],
   "source": []
  },
  {
   "cell_type": "code",
   "execution_count": 16,
   "id": "b1647ff6-fc0b-4ef8-a043-4411c44ba7c8",
   "metadata": {},
   "outputs": [
    {
     "name": "stdout",
     "output_type": "stream",
     "text": [
      "\n",
      "Question Coverage Analysis:\n",
      "Original questions: 609\n",
      "Answered questions: 88\n",
      "Missing questions: 527\n",
      "Coverage rate: 13.5%\n"
     ]
    }
   ],
   "source": [
    "# 1. Check question coverage against original list\n",
    "coverage_results = check_questions_coverage(combined_data)"
   ]
  },
  {
   "cell_type": "code",
   "execution_count": 17,
   "id": "781df88b-3acd-4847-a7f6-0286b15b0f05",
   "metadata": {},
   "outputs": [
    {
     "name": "stdout",
     "output_type": "stream",
     "text": [
      "\n",
      "Answer Distribution Analysis:\n",
      "Total questions: 88\n",
      "Average answers per question: 3.98\n",
      "Maximum answers for any question: 5\n",
      "\n",
      "Distribution:\n",
      "  1 answers: 11 questions (12.5%)\n",
      "  2 answers: 10 questions (11.4%)\n",
      "  3 answers: 5 questions (5.7%)\n",
      "  4 answers: 6 questions (6.8%)\n",
      "  5 answers: 56 questions (63.6%)\n"
     ]
    },
    {
     "data": {
      "image/png": "[encoded data removed]",
      "text/plain": [
       "<Figure size 800x600 with 1 Axes>"
      ]
     },
     "metadata": {},
     "output_type": "display_data"
    }
   ],
   "source": [
    "# 2. Analyze answer distribution (how many answers per question)\n",
    "answer_dist_results = analyze_answer_distribution(combined_data)\n",
    "visualize_answer_distribution(answer_dist_results)"
   ]
  },
  {
   "cell_type": "code",
   "execution_count": 18,
   "id": "69a9a75f-f6be-446c-8fcc-8f2a49e64940",
   "metadata": {},
   "outputs": [
    {
     "name": "stdout",
     "output_type": "stream",
     "text": [
      "\n",
      "Answer Length Analysis:\n",
      "Total answers: 350\n",
      "Average length: 61.8 words, 376.6 characters\n",
      "Range: 15-139 words\n",
      "Short answers flagged: 1 (0.3%)\n",
      "\n",
      "First 5 short answers:\n",
      "  Q48A4: 15 words - \"Ada participated in trunk-or-treating in October 2022, which was a fun community outing for her.\"\n"
     ]
    },
    {
     "data": {
      "image/png": "[encoded data removed]",
      "text/plain": [
       "<Figure size 1000x600 with 1 Axes>"
      ]
     },
     "metadata": {},
     "output_type": "display_data"
    }
   ],
   "source": [
    "# 3. Analyze answer length distribution and flag short answers\n",
    "length_results = analyze_answer_lengths(combined_data)\n",
    "visualize_answer_lengths(length_results)"
   ]
  },
  {
   "cell_type": "code",
   "execution_count": 19,
   "id": "e68aa8b7-7399-4c8c-81cd-48a2351b874c",
   "metadata": {},
   "outputs": [
    {
     "name": "stdout",
     "output_type": "stream",
     "text": [
      "\n",
      "Empty Answers Check:\n",
      "✅ All questions have answers\n"
     ]
    }
   ],
   "source": [
    "empty_results = check_empty_answers(combined_data) "
   ]
  },
  {
   "cell_type": "code",
   "execution_count": 20,
   "id": "76c8be96-85c4-44f1-ae7e-d9ae54fcf9b8",
   "metadata": {},
   "outputs": [
    {
     "name": "stdout",
     "output_type": "stream",
     "text": [
      "\n",
      "Duplicate Questions Check:\n",
      "✅ No duplicate questions found\n"
     ]
    }
   ],
   "source": [
    "duplicate_results = check_duplicate_questions(combined_data)"
   ]
  },
  {
   "cell_type": "code",
   "execution_count": 21,
   "id": "5b4e652f-ccb9-4175-a6f6-8e0d1d90885e",
   "metadata": {},
   "outputs": [
    {
     "name": "stdout",
     "output_type": "stream",
     "text": [
      "\n",
      "JSON Format Check:\n",
      "✅ All JSON formatting is correct\n"
     ]
    }
   ],
   "source": [
    "format_results = check_json_format(combined_data)"
   ]
  },
  {
   "cell_type": "code",
   "execution_count": 22,
   "id": "2af868e2-449e-4db8-af2b-ab39dcc4ea7a",
   "metadata": {},
   "outputs": [
    {
     "name": "stdout",
     "output_type": "stream",
     "text": [
      "✅ QC report saved to: ada_qa_qc_report_20250522_212939.txt\n"
     ]
    },
    {
     "data": {
      "text/plain": [
       "'ada_qa_qc_report_20250522_212939.txt'"
      ]
     },
     "execution_count": 22,
     "metadata": {},
     "output_type": "execute_result"
    }
   ],
   "source": [
    "# Save comprehensive QC report\n",
    "save_qc_report(coverage_results, answer_dist_results, length_results,\n",
    "               duplicate_results, empty_results, format_results)"
   ]
  },
  {
   "cell_type": "code",
   "execution_count": null,
   "id": "f24ddd32-8a0b-4a6c-8cb9-5eaed3b20a9e",
   "metadata": {},
   "outputs": [],
   "source": []
  }
 ],
 "metadata": {
  "kernelspec": {
   "display_name": "Python 3 (ipykernel)",
   "language": "python",
   "name": "python3"
  },
  "language_info": {
   "codemirror_mode": {
    "name": "ipython",
    "version": 3
   },
   "file_extension": ".py",
   "mimetype": "text/x-python",
   "name": "python",
   "nbconvert_exporter": "python",
   "pygments_lexer": "ipython3",
   "version": "3.10.16"
  }
 },
 "nbformat": 4,
 "nbformat_minor": 5
}
