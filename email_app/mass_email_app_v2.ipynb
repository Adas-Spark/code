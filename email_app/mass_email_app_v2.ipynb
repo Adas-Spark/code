{
 "cells": [
  {
   "cell_type": "markdown",
   "id": "1e52cd6c-fd45-4548-9d16-6fed63b85d92",
   "metadata": {},
   "source": [
    "Mass Email Application for Event Communication\n",
    "===========================================\n",
    "\n",
    "This script is designed to send personalized mass emails to event participants while \n",
    "maintaining a personal touch. It's particularly useful for event organizers who need \n",
    "to communicate with large groups of participants while avoiding spam filters and \n",
    "maintaining professional communication standards.\n",
    "\n",
    "Key Features:\n",
    "------------\n",
    "- Reads participant data from a CSV file (First Name, Last Name, Email)\n",
    "- Converts DOCX into HTML email templates that support personalized greetings\n",
    "- Handles multiple participants from the same family/email address\n",
    "- Includes attachment support for documents and images\n",
    "- Uses Gmail API for reliable email delivery\n",
    "- Implements smart exponential backoff with jittering for rate limiting\n",
    "- Validates email addresses and logs failed deliveries\n",
    "- Automatic retry logic for failed sends\n",
    "- Handles Google OAuth2 authentication with token persistence\n",
    "\n",
    "Dependencies:\n",
    "------------\n",
    "- pandas: Data processing\n",
    "- google-auth-oauthlib: Google API authentication\n",
    "- google-auth: Google authentication\n",
    "- google-api-python-client: Gmail API interface\n",
    "- pypandoc: Document conversion (DOCX to HTML)\n",
    "\n",
    "Required Files:\n",
    "-------------\n",
    "- credentials.json: Google API credentials\n",
    "    * If needed obtain from Google Cloud Console (console.cloud.google.com)\n",
    "- CSV file with participant data:\n",
    "    * Should NOT contain a header row\n",
    "    * Must contain exactly 3 columns in this order:\n",
    "        1. First Name\n",
    "        2. Last Name\n",
    "        3. Email Address\n",
    "    * Example: \"John,Smith,john.smith@email.com\"\n",
    "- DOCX template for email content:\n",
    "    * Must contain the placeholder \"{person or persons}\" where names should be inserted\n",
    "    * This placeholder will be replaced with either a single name or a comma-separated\n",
    "      list of names for family groups\n",
    "    * Example: \"Hi {person or persons}, Thank you for participating...\"\n",
    "- Any attachments to be included\n",
    "\n",
    "Usage:\n",
    "-----\n",
    "1. Configure the variables at the top of the script:\n",
    "   - base_subject: Email subject line template\n",
    "   - csv_file_path: Path to participant data\n",
    "   - docx_template_path: Path to email template\n",
    "   - attachments: List of files to attach\n",
    "\n",
    "2. The script will:\n",
    "   - Process the participant data\n",
    "   - Convert the DOCX template to HTML\n",
    "   - Authenticate with Gmail\n",
    "   - Send personalized emails to all participants:\n",
    "     * Personalizes greeting with individual or family names (e.g., \"Hi John\" or \"Hi Mary, Bob, and Jane\")\n",
    "     * Option to customizes email subject line with family name(s) (e.g., \"Ada's Forever 5K Thank You - Smith\" or \"Ada's Forever 5K Thank You - Smith and Smith-Johnson\")\n",
    "     * Groups multiple participants sharing the same email address into a single email\n",
    "   - Handle rate limiting automatically\n",
    "\n",
    "Note: The script includes safety features like:\n",
    "- Email validation\n",
    "- Rate limiting\n",
    "- Error logging\n",
    "- Test email capability"
   ]
  },
  {
   "cell_type": "code",
   "execution_count": null,
   "id": "95f90124-4108-41a9-9cae-f1ab9d058004",
   "metadata": {},
   "outputs": [],
   "source": [
    "import pandas as pd\n",
    "from collections import defaultdict\n",
    "import os\n",
    "import pickle\n",
    "import pypandoc\n",
    "import base64\n",
    "from google.auth.transport.requests import Request\n",
    "from google.oauth2.credentials import Credentials\n",
    "from google_auth_oauthlib.flow import InstalledAppFlow\n",
    "from googleapiclient.discovery import build\n",
    "from googleapiclient.errors import HttpError\n",
    "from email.mime.text import MIMEText\n",
    "from email.mime.multipart import MIMEMultipart\n",
    "from email.mime.base import MIMEBase\n",
    "from email import encoders\n",
    "import mimetypes\n",
    "import time\n",
    "import random\n",
    "import re"
   ]
  },
  {
   "cell_type": "markdown",
   "id": "bcad62ff-6172-40d6-a4df-a90036934e0b",
   "metadata": {},
   "source": [
    "Note that formatting can be a little tricky when converting docx to html. I think that you either want to use actual bullets in Google Docs or use spaces and '-', don't let it autocorrect it. Also, use Shift+Enter instead of Enter in Word to create a \"soft line break\" rather than a new paragraph. This tells Word (and subsequently pypandoc) that you want a line break but not a new paragraph."
   ]
  },
  {
   "cell_type": "code",
   "execution_count": null,
   "id": "cc97241e-d8f4-4e46-a145-32565d5fa129",
   "metadata": {},
   "outputs": [],
   "source": [
    "def mask_email(email):\n",
    "    \"\"\"Mask email address for privacy in cell outputs.\"\"\"\n",
    "    if '@' not in email:\n",
    "        return \"***invalid***\"\n",
    "    return f\"{email[:3]}***@{email.split('@')[1]}\""
   ]
  },
  {
   "cell_type": "code",
   "execution_count": null,
   "id": "f466176c-8083-4acc-a19c-08fa8e6dff73",
   "metadata": {},
   "outputs": [],
   "source": [
    "# Files to Load and Variables to check\n",
    "\n",
    "# Remember that Python doesn't need (or like) escapes before spaces\n",
    "\n",
    "# csv file with all email address. three columns: First name, Last Name,\n",
    "#    Email Address with NO header\n",
    "#    Can get in terminal using: realpath foo.bar\n",
    "csv_file_path = '/Users/joelswenson/Documents/Adas_spark/email_app/listserv_cleaned_4-22-25.csv'\n",
    "\n",
    "# Path to template email in docx format\n",
    "docx_template_path = '/Users/joelswenson/Documents/Adas_spark/email_app/Deadline_Extended.docx'\n",
    "\n",
    "# Use custom subject if provided, otherwise use filename\n",
    "custom_subject = \"Deadline Extended - Sign-up Today!\"  # Set this to override the default otherwise set 'custom_subject = None'\n",
    "base_subject = (custom_subject \n",
    "                if custom_subject \n",
    "                else os.path.splitext(os.path.basename(docx_template_path))[0])\n",
    "if base_subject.startswith('Adas'):  # Optional automatic fix\n",
    "    base_subject = base_subject.replace('Adas', \"Ada's\", 1)\n",
    "\n",
    "# Use last names in subject line? E.g. Should it say \"base_subject - last_name\" \n",
    "#     like \"Ada's 2024 5K - Swenson\"\n",
    "last_name_in_subject_line = 0 # Binary: 0 means don't have last_name in subject line.\n",
    "\n",
    "# Specify the paths to the attachments\n",
    "attachments = []\n",
    "\n",
    "# Comment the below out if there are no attachments. You can attach multiple attachments by\n",
    "# adding multiple filepaths below, separated by commas\n",
    "#attachments = [\n",
    "#    '/Users/joelswenson/Documents/Adas_spark/email_app/2025_Ada_5K_flyer.png'\n",
    "#]"
   ]
  },
  {
   "cell_type": "code",
   "execution_count": null,
   "id": "20e3e35a-a176-461b-8db0-afd7f1185721",
   "metadata": {},
   "outputs": [],
   "source": [
    "print(f\"Current subject format: '{base_subject}{' - [Last Name]' if last_name_in_subject_line else ''}'\")"
   ]
  },
  {
   "cell_type": "code",
   "execution_count": null,
   "id": "80493b30-ad71-42ac-80c8-8f41133328bd",
   "metadata": {},
   "outputs": [],
   "source": [
    "print(\"Remember that the signature from Ada's Spark is not automtically added to emails if you send emails through the API so put it in the Google Doc if you want it included....there is a way to add it programmatically but it isn't worth the lift and will be hard to make look pretty.\")"
   ]
  },
  {
   "cell_type": "code",
   "execution_count": null,
   "id": "4449e5d9-ed75-40b4-b376-b8ddb33a4cb4",
   "metadata": {},
   "outputs": [],
   "source": [
    "attachments"
   ]
  },
  {
   "cell_type": "code",
   "execution_count": null,
   "id": "eba265ce-87ca-42a6-89de-b4689e3a82ee",
   "metadata": {},
   "outputs": [],
   "source": [
    "def is_valid_email(email):\n",
    "    \"\"\"Basic email format validation.\"\"\"\n",
    "    pattern = r'^[a-zA-Z0-9._%+-]+@[a-zA-Z0-9.-]+\\.[a-zA-Z]{2,}$'\n",
    "    return bool(re.match(pattern, email))"
   ]
  },
  {
   "cell_type": "code",
   "execution_count": null,
   "id": "001dca02-445d-41ed-846e-ca67e75f2aa9",
   "metadata": {},
   "outputs": [],
   "source": [
    "# Load the CSV file of email addresses\n",
    "data = pd.read_csv(csv_file_path, header=None, names=[\"First Name\", \"Last Name\", \"Email\"])"
   ]
  },
  {
   "cell_type": "code",
   "execution_count": null,
   "id": "1f08c799-488b-424a-9b4b-0d5a90c6920c",
   "metadata": {},
   "outputs": [],
   "source": [
    "# Group by email address\n",
    "families = defaultdict(list) # Don't use a set to allow two people to have the\n",
    "#                                 same first name in a family\n",
    "last_names = defaultdict(set)  # Use a set to avoid duplicate last names in one family\n",
    "invalid_emails = []\n",
    "\n",
    "for _, row in data.iterrows():\n",
    "    email_clean = row[\"Email\"].strip().lower()\n",
    "    if not is_valid_email(email_clean):\n",
    "        invalid_emails.append({\n",
    "            'email': row[\"Email\"],\n",
    "            'name': f\"{row['First Name']} {row['Last Name']}\"\n",
    "        })\n",
    "        continue\n",
    "    families[email_clean].append(row[\"First Name\"])\n",
    "    last_names[email_clean].add(row[\"Last Name\"])  # Collect all last names\n",
    "\n",
    "# Deals with the somewhat common case of a family having the same email address but different last names\n",
    "# Convert sets to formatted strings like \"Smith and Johnson\"\n",
    "last_names = {email: \" and \".join(sorted(names)) for email, names in last_names.items()}"
   ]
  },
  {
   "cell_type": "code",
   "execution_count": null,
   "id": "7d120872-0e77-4e19-a679-dd9dd04869b9",
   "metadata": {},
   "outputs": [],
   "source": [
    "# After processing all emails, report any invalid ones\n",
    "if invalid_emails:\n",
    "    print(\"\\nWarning: The following emails were invalid and will be skipped:\")\n",
    "    for entry in invalid_emails:\n",
    "        print(f\"- {entry['name']}: {mask_email(entry['email'])}\")\n",
    "    \n",
    "    # Optionally save to file\n",
    "    with open('invalid_emails.txt', 'w') as f:\n",
    "        f.write(\"Invalid emails found:\\n\")\n",
    "        for entry in invalid_emails:\n",
    "            f.write(f\"{entry['name']}: {entry['email']}\\n\")"
   ]
  },
  {
   "cell_type": "code",
   "execution_count": null,
   "id": "15eac2eb-bb4e-44e4-b2a9-d58876a9fd5e",
   "metadata": {},
   "outputs": [],
   "source": [
    "# Automatically generate the template path from dox path by replacing .docx with .html\n",
    "template_path = docx_template_path.replace('.docx', '.html')\n",
    "\n",
    "print(f\"Docx Template Path: {docx_template_path}\")\n",
    "print(f\"HTML Template Path: {template_path}\")\n",
    "\n",
    "# Convert docx template email to HTML\n",
    "pypandoc.convert_file(docx_template_path, 'html', outputfile=template_path)\n",
    "\n",
    "# Read the HTML email template\n",
    "with open(template_path, 'r') as file:\n",
    "    email_template = file.read()\n",
    "\n",
    "# Check for required placeholder\n",
    "if \"{person or persons}\" not in email_template:\n",
    "    raise ValueError(\"Error: Template is missing required placeholder \"\n",
    "                     \"'{person or persons}'. Please check the template file.\")\n"
   ]
  },
  {
   "cell_type": "code",
   "execution_count": null,
   "id": "296246af-9319-46fb-b81a-b0e301333205",
   "metadata": {},
   "outputs": [],
   "source": [
    "# Generate personalized emails\n",
    "personalized_emails = {}\n",
    "for email_clean, names in families.items():\n",
    "    if len(names) == 1:\n",
    "        salutation = f\"{names[0]}\"\n",
    "    else:\n",
    "        salutation = f\"{', '.join(names[:-1])} and {names[-1]}\"\n",
    "    \n",
    "    personalized_email = email_template.replace(\"{person or persons}\", salutation)\n",
    "    personalized_emails[email_clean] = personalized_email"
   ]
  },
  {
   "cell_type": "code",
   "execution_count": null,
   "id": "76a82ada-67ac-4336-9e08-d7ea0fbcfdc5",
   "metadata": {},
   "outputs": [],
   "source": []
  },
  {
   "cell_type": "code",
   "execution_count": null,
   "id": "9102c00b-0d37-4c97-96c8-bc131a550fcb",
   "metadata": {},
   "outputs": [],
   "source": [
    "'''\n",
    "# Display an example of the personalized email\n",
    "example_email = list(personalized_emails.items())[-1]\n",
    "masked_example = (mask_email(example_email[0]), example_email[1])\n",
    "masked_example\n",
    "'''"
   ]
  },
  {
   "cell_type": "code",
   "execution_count": null,
   "id": "8f12c3a8-922b-453d-af5c-6219f9cbf63c",
   "metadata": {},
   "outputs": [],
   "source": []
  },
  {
   "cell_type": "code",
   "execution_count": null,
   "id": "1417b394-78bc-4623-be45-d4ffce5e7d4f",
   "metadata": {},
   "outputs": [],
   "source": []
  },
  {
   "cell_type": "code",
   "execution_count": null,
   "id": "805d6c80-b30c-4e42-a7ca-8328be89ecfd",
   "metadata": {},
   "outputs": [],
   "source": [
    "# Authenticate and Authorize with gmail API"
   ]
  },
  {
   "cell_type": "code",
   "execution_count": null,
   "id": "72c358ff-0eb9-4f7d-b2c8-5d66bfe2e535",
   "metadata": {},
   "outputs": [],
   "source": [
    "# If modifying these SCOPES, delete the file token.pickle.\n",
    "SCOPES = ['https://www.googleapis.com/auth/gmail.send']"
   ]
  },
  {
   "cell_type": "code",
   "execution_count": null,
   "id": "9cc007d3-d945-4f2c-9b00-caf7f4b2e792",
   "metadata": {},
   "outputs": [],
   "source": [
    "# Function to handle token refresh error\n",
    "def handle_refresh_error(token_path):\n",
    "    if os.path.exists(token_path):\n",
    "        os.remove(token_path)\n",
    "        print(f\"Deleted the expired or invalid token file: {token_path}\")\n",
    "    else:\n",
    "        print(f\"Token file {token_path} does not exist.\")"
   ]
  },
  {
   "cell_type": "code",
   "execution_count": null,
   "id": "5f45365a-f9f5-4086-8140-4dbaaa06843f",
   "metadata": {},
   "outputs": [],
   "source": [
    "def authenticate_gmail_api(max_retries=3, current_retry=0):\n",
    "    \"\"\"Authenticates and returns a Gmail API service instance.\"\"\"\n",
    "    creds = None\n",
    "    token_path = 'token.pickle'\n",
    "    try:\n",
    "        # The file token.pickle stores the user's access and refresh tokens, and is\n",
    "        # created automatically when the authorization flow completes for the first\n",
    "        # time.\n",
    "        if os.path.exists(token_path):\n",
    "            with open(token_path, 'rb') as token:\n",
    "                creds = pickle.load(token)\n",
    "        # If there are no (valid) credentials available, let the user log in.\n",
    "        if not creds or not creds.valid:\n",
    "            if creds and creds.expired and creds.refresh_token:\n",
    "                creds.refresh(Request())\n",
    "            else:\n",
    "                flow = InstalledAppFlow.from_client_secrets_file(\n",
    "                    'credentials.json', SCOPES)\n",
    "                creds = flow.run_local_server(port=0)\n",
    "            # Save the credentials for the next run\n",
    "            with open(token_path, 'wb') as token:\n",
    "                pickle.dump(creds, token)\n",
    "    except Exception as e:\n",
    "        print(f\"An error occurred during authentication: {e}\")\n",
    "        if current_retry < max_retries:\n",
    "            handle_refresh_error(token_path)\n",
    "            return authenticate_gmail_api(max_retries, current_retry + 1)\n",
    "        else:\n",
    "            raise Exception(f\"Failed to authenticate after {max_retries} attempts\")\n",
    "\n",
    "    service = build('gmail', 'v1', credentials=creds)\n",
    "    return service"
   ]
  },
  {
   "cell_type": "code",
   "execution_count": null,
   "id": "bec14eca-f6da-4211-88d2-a34f8fd6c685",
   "metadata": {},
   "outputs": [],
   "source": [
    "# Authenticate and authorize\n",
    "service = authenticate_gmail_api()"
   ]
  },
  {
   "cell_type": "code",
   "execution_count": null,
   "id": "f827b77f-16c4-4176-ab80-365408ebb126",
   "metadata": {},
   "outputs": [],
   "source": [
    "def include_attachments(message, attachments):\n",
    "    \"\"\"Function to attach files to the email message.\"\"\"\n",
    "    for attachment in attachments:\n",
    "        content_type, encoding = mimetypes.guess_type(attachment)\n",
    "        if content_type is None or encoding is not None:\n",
    "            content_type = 'application/octet-stream'\n",
    "        main_type, sub_type = content_type.split('/', 1)\n",
    "        \n",
    "        with open(attachment, 'rb') as file:\n",
    "            msg = MIMEBase(main_type, sub_type)\n",
    "            msg.set_payload(file.read())\n",
    "            encoders.encode_base64(msg)\n",
    "            msg.add_header(\n",
    "                'Content-Disposition',\n",
    "                f'attachment; filename={os.path.basename(attachment)}'\n",
    "            )\n",
    "            message.attach(msg)\n",
    "    return message"
   ]
  },
  {
   "cell_type": "code",
   "execution_count": null,
   "id": "1756e357-ab7d-4727-acb5-a1ad305183de",
   "metadata": {},
   "outputs": [],
   "source": [
    "def send_email(service, to, subject, body, attachments=None):\n",
    "    try:\n",
    "        # Create the email message\n",
    "        message = MIMEMultipart()\n",
    "        message['to'] = to\n",
    "        message['subject'] = subject\n",
    "\n",
    "        # Attach the email body\n",
    "        msg = MIMEText(body, 'html')\n",
    "        message.attach(msg)\n",
    "\n",
    "        # Attach any files\n",
    "        if attachments:\n",
    "            message = include_attachments(message, attachments)\n",
    "\n",
    "        raw_message = base64.urlsafe_b64encode(message.as_bytes()).decode()\n",
    "\n",
    "        # Send the email\n",
    "        message = (service.users().messages().send(userId=\"me\", body={'raw': raw_message})\n",
    "                   .execute())\n",
    "        print('Message Id: %s' % message['id'])\n",
    "        return message\n",
    "    except Exception as e:\n",
    "        print(f'An error occurred while sending email to {mask_email(to)}: {e}')\n",
    "        # Log failed email to file\n",
    "        with open('failed_emails.txt', 'a') as f:\n",
    "            f.write(f\"{to}: {str(e)}\\n\")\n",
    "        return None"
   ]
  },
  {
   "cell_type": "code",
   "execution_count": null,
   "id": "91a48251-a120-40d9-be66-8154cc07f43d",
   "metadata": {},
   "outputs": [],
   "source": []
  },
  {
   "cell_type": "code",
   "execution_count": null,
   "id": "bd564b25-8a12-446d-bf84-6be317f120f2",
   "metadata": {},
   "outputs": [],
   "source": [
    "###### Email sending is below, pay attention!"
   ]
  },
  {
   "cell_type": "code",
   "execution_count": null,
   "id": "802acf48-4b35-4a5e-9221-58c14cfbe089",
   "metadata": {},
   "outputs": [],
   "source": []
  },
  {
   "cell_type": "code",
   "execution_count": null,
   "id": "1581de9b-9667-4a2a-b4df-5b7669acff97",
   "metadata": {},
   "outputs": [],
   "source": [
    "###### Email sending is below, pay attention!"
   ]
  },
  {
   "cell_type": "code",
   "execution_count": null,
   "id": "bb947017-4dc8-451e-951f-fa35456262bf",
   "metadata": {},
   "outputs": [],
   "source": []
  },
  {
   "cell_type": "code",
   "execution_count": null,
   "id": "2af14eaa-ae07-4fd1-ad06-0c4543fd88e9",
   "metadata": {},
   "outputs": [],
   "source": [
    "# Constants for expotential backoff strategy to avoid hitting rate-limits\n",
    "BASE_DELAY = 5  # Initial delay in seconds\n",
    "MAX_DELAY = 300  # Maximum backoff time\n",
    "MAX_RETRIES = 10  # Maximum retries before giving up"
   ]
  },
  {
   "cell_type": "code",
   "execution_count": null,
   "id": "2da737dd-e360-4f95-8893-2245f78d8493",
   "metadata": {},
   "outputs": [],
   "source": [
    "def get_backoff_time(attempt, base_delay=BASE_DELAY, max_delay=MAX_DELAY):\n",
    "    \"\"\"Calculate exponential backoff time with jitter.\"\"\"\n",
    "    delay = min(base_delay * (2 ** attempt), max_delay)\n",
    "    jitter = random.uniform(-0.1 * delay, 0.1 * delay)\n",
    "    return delay + jitter\n",
    "\n",
    "def log_failed_email(email, error):\n",
    "    \"\"\"Log failed email attempts to a file.\"\"\"\n",
    "    with open('failed_emails.log', 'a') as f:\n",
    "        timestamp = time.strftime('%Y-%m-%d %H:%M:%S')\n",
    "        f.write(f\"{timestamp} - {email}: {str(error)}\\n\")"
   ]
  },
  {
   "cell_type": "code",
   "execution_count": null,
   "id": "4de5e0b7-37a8-4813-b92a-f3d26bc30cc2",
   "metadata": {},
   "outputs": [],
   "source": [
    "def send_emails_with_backoff(service, personalized_emails, last_names, base_subject, attachments=None):\n",
    "    \"\"\"Send emails with exponential backoff for rate limits and transient failures.\"\"\"\n",
    "    for email_clean, personalized_email in personalized_emails.items():\n",
    "        attempt = 0\n",
    "        while attempt < MAX_RETRIES:\n",
    "            try:\n",
    "                print(f\"Sending email to: {mask_email(email_clean)}\")\n",
    "                last_name = last_names[email_clean]\n",
    "                if last_name_in_subject_line:\n",
    "                    subject = f\"{base_subject} - {last_name}\"\n",
    "                else:\n",
    "                    subject = base_subject\n",
    "                \n",
    "                result = send_email(service, email_clean, subject, personalized_email, attachments)\n",
    "                \n",
    "                if result:  # Success\n",
    "                    print(f\"Email sent successfully to {mask_email(email_clean)}\")\n",
    "                    time.sleep(random.uniform(1, 3))  # Small random delay between sends\n",
    "                    break  # Exit loop on success\n",
    "                else:\n",
    "                    raise Exception(\"Unknown email sending failure\")\n",
    "            except HttpError as e:\n",
    "                if e.resp.status in [403, 429, 500, 503]:  # Handle rate limits and server errors\n",
    "                    attempt += 1\n",
    "                    delay = get_backoff_time(attempt)\n",
    "                    print(f\"Rate limit or server error ({e.resp.status}) for {mask_email(email_clean)},\"\n",
    "                        f\" backing off for {delay:.2f} seconds.\")\n",
    "                    time.sleep(delay)\n",
    "                else:\n",
    "                    print(f\"Non-retryable error for {mask_email(email_clean)}: {e}\")\n",
    "                    log_failed_email(email_clean, f\"Non-retryable error: {e}\")\n",
    "                    break  # Do not retry non-retryable errors\n",
    "            except Exception as e:\n",
    "                print(f\"Unexpected error sending to {mask_email(email_clean)}: {str(e)}\")\n",
    "                attempt += 1\n",
    "                delay = get_backoff_time(attempt)\n",
    "                print(f\"Backing off for {delay:.2f} seconds.\")\n",
    "                time.sleep(delay)\n",
    "            if attempt >= MAX_RETRIES:\n",
    "                print(f\"Max retries reached for {mask_email(email_clean)}. Skipping.\")\n",
    "                log_failed_email(email_clean, \"Max retries exceeded\")"
   ]
  },
  {
   "cell_type": "code",
   "execution_count": null,
   "id": "3ddc9ff9-1a71-46a6-9edb-20058236b269",
   "metadata": {},
   "outputs": [],
   "source": []
  },
  {
   "cell_type": "code",
   "execution_count": null,
   "id": "0149ce82-8629-4855-b69f-53f0d2540442",
   "metadata": {},
   "outputs": [],
   "source": [
    "# Find emails to send tests to\n",
    "# [mask_email(email) for email in personalized_emails.keys()]\n",
    "email_list = list(personalized_emails.keys())\n",
    "target_email = \"example_1@gmail.com\"\n",
    "#target_email = \"example_2@gmail.com\"\n",
    "for i, email in enumerate(email_list):\n",
    "    if email == target_email:\n",
    "        print(f\"Found email {mask_email(email)} at index {i}\")\n",
    "        print(mask_email(email_list[i]))\n",
    "        break"
   ]
  },
  {
   "cell_type": "code",
   "execution_count": null,
   "id": "8f8a9b13-dbf5-4e6e-93fc-0f4209194dcd",
   "metadata": {},
   "outputs": [],
   "source": [
    "# Assign the email to test_email\n",
    "test_email = email_list[i]"
   ]
  },
  {
   "cell_type": "code",
   "execution_count": null,
   "id": "ee06eed7-a107-455f-b545-97f1ceb2510d",
   "metadata": {},
   "outputs": [],
   "source": [
    "# Send personalized HTML emails (only to a specific email address for testing)\n",
    "if len(email_list) > 1:\n",
    "    # Create a single-email dictionary for testing\n",
    "    test_emails = {test_email: personalized_emails[test_email]}\n",
    "    # Use the new backoff function with just one email\n",
    "    send_emails_with_backoff(service, test_emails, last_names, base_subject, attachments)\n"
   ]
  },
  {
   "cell_type": "code",
   "execution_count": null,
   "id": "02bf1af1-77a4-461b-a6f6-6a52171aa2f9",
   "metadata": {},
   "outputs": [],
   "source": []
  },
  {
   "cell_type": "code",
   "execution_count": null,
   "id": "e390b1d3-4097-40c6-b45a-4860e98945a0",
   "metadata": {},
   "outputs": [],
   "source": []
  },
  {
   "cell_type": "code",
   "execution_count": null,
   "id": "ec6abf68-0fe1-4d85-8ac6-8774e0dd571f",
   "metadata": {},
   "outputs": [],
   "source": [
    "# Note that on the command line you can run something like\n",
    "\n",
    "# caffeinate -t 1800 &\n",
    "\n",
    "# which will will launch macOS’s caffeinate utility in the\n",
    "# background (&) and tell it to hold off idle sleep for\n",
    "# 1,800 seconds (30 minutes). In other words, it prevents\n",
    "# your Mac from going to sleep (or dimming the display due\n",
    "# to inactivity) for the next half hour, then exits\n",
    "# automatically when the timer expires."
   ]
  },
  {
   "cell_type": "code",
   "execution_count": null,
   "id": "95707aea-9908-4c9c-80b4-92186877b04c",
   "metadata": {},
   "outputs": [],
   "source": [
    "\n",
    "# Uncomment this cell to send all the emails.\n",
    "# It is just commented out so that I don't accidently email a bunch of people!\n",
    "\n",
    "# Send personalized HTML emails\n",
    "\n",
    "send_emails_with_backoff(service, personalized_emails, last_names, base_subject, attachments)\n"
   ]
  },
  {
   "cell_type": "code",
   "execution_count": null,
   "id": "112f96a7-0263-46c2-9b8f-65b65574611e",
   "metadata": {},
   "outputs": [],
   "source": []
  },
  {
   "cell_type": "code",
   "execution_count": null,
   "id": "a9783575-edab-433c-8c7f-833ba9e3920c",
   "metadata": {},
   "outputs": [],
   "source": []
  },
  {
   "cell_type": "code",
   "execution_count": null,
   "id": "6ae908fe-b887-4327-a7a8-929e74db74dc",
   "metadata": {},
   "outputs": [],
   "source": []
  },
  {
   "cell_type": "code",
   "execution_count": null,
   "id": "9856c08b-3961-42ac-be7d-c21b8dcc0114",
   "metadata": {},
   "outputs": [],
   "source": []
  }
 ],
 "metadata": {
  "kernelspec": {
   "display_name": "Python 3 (ipykernel)",
   "language": "python",
   "name": "python3"
  },
  "language_info": {
   "codemirror_mode": {
    "name": "ipython",
    "version": 3
   },
   "file_extension": ".py",
   "mimetype": "text/x-python",
   "name": "python",
   "nbconvert_exporter": "python",
   "pygments_lexer": "ipython3",
   "version": "3.11.10"
  }
 },
 "nbformat": 4,
 "nbformat_minor": 5
}
